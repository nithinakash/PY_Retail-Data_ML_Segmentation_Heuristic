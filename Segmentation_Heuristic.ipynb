{
 "cells": [
  {
   "cell_type": "code",
   "execution_count": 1,
   "id": "611b1d12",
   "metadata": {},
   "outputs": [],
   "source": [
    "import numpy as np\n",
    "import pandas as pd"
   ]
  },
  {
   "cell_type": "markdown",
   "id": "374936ec",
   "metadata": {},
   "source": [
    "### Datasets"
   ]
  },
  {
   "cell_type": "code",
   "execution_count": 2,
   "id": "1d4540ef",
   "metadata": {},
   "outputs": [],
   "source": [
    "df = pd.read_csv('C:/Users/Nithin/Downloads/Segmentation_Heuristic/DATA SET FOR RFM-VALUE BASED SEGMENTATION.csv')"
   ]
  },
  {
   "cell_type": "markdown",
   "id": "a2b190d7",
   "metadata": {},
   "source": [
    "### Data Prep"
   ]
  },
  {
   "cell_type": "code",
   "execution_count": 3,
   "id": "f24da0d6",
   "metadata": {},
   "outputs": [
    {
     "name": "stdout",
     "output_type": "stream",
     "text": [
      "<class 'pandas.core.frame.DataFrame'>\n",
      "RangeIndex: 22602 entries, 0 to 22601\n",
      "Data columns (total 9 columns):\n",
      " #   Column                Non-Null Count  Dtype  \n",
      "---  ------                --------------  -----  \n",
      " 0   cust_id               22602 non-null  int64  \n",
      " 1   No_of_days_frm_L_pur  22602 non-null  int64  \n",
      " 2   total_sale            22602 non-null  float64\n",
      " 3   No_baskets            22602 non-null  int64  \n",
      " 4   item_cnt              22602 non-null  int64  \n",
      " 5   no_SKUs               22602 non-null  int64  \n",
      " 6   no_Categories         22602 non-null  int64  \n",
      " 7   avg_no_prds_w_ret     22602 non-null  float64\n",
      " 8   Flag_Multi_cat_p2     22602 non-null  int64  \n",
      "dtypes: float64(2), int64(7)\n",
      "memory usage: 1.6 MB\n"
     ]
    }
   ],
   "source": [
    "df.info()"
   ]
  },
  {
   "cell_type": "code",
   "execution_count": 4,
   "id": "c2ffdb6f",
   "metadata": {},
   "outputs": [],
   "source": [
    "df.rename(columns={'No_of_days_frm_L_pur':'recency','total_sale':'monetary_value','No_baskets':'frequency'},inplace=True)"
   ]
  },
  {
   "cell_type": "markdown",
   "id": "91cb709d",
   "metadata": {},
   "source": [
    "### Value based Segmentation"
   ]
  },
  {
   "cell_type": "code",
   "execution_count": 5,
   "id": "4760753a",
   "metadata": {},
   "outputs": [],
   "source": [
    "df['decile'] = pd.qcut(df.monetary_value,10,labels=False)"
   ]
  },
  {
   "cell_type": "code",
   "execution_count": 6,
   "id": "b235eff5",
   "metadata": {},
   "outputs": [
    {
     "data": {
      "text/plain": [
       "Index(['cust_id', 'recency', 'monetary_value', 'frequency', 'item_cnt',\n",
       "       'no_SKUs', 'no_Categories', 'avg_no_prds_w_ret', 'Flag_Multi_cat_p2',\n",
       "       'decile'],\n",
       "      dtype='object')"
      ]
     },
     "execution_count": 6,
     "metadata": {},
     "output_type": "execute_result"
    }
   ],
   "source": [
    "df.columns"
   ]
  },
  {
   "cell_type": "code",
   "execution_count": 7,
   "id": "19a7fab8",
   "metadata": {},
   "outputs": [],
   "source": [
    "cols = ['recency', 'monetary_value', 'frequency', 'item_cnt',\n",
    "       'no_SKUs', 'no_Categories', 'avg_no_prds_w_ret', 'Flag_Multi_cat_p2']"
   ]
  },
  {
   "cell_type": "code",
   "execution_count": 8,
   "id": "6541fbc7",
   "metadata": {},
   "outputs": [],
   "source": [
    "VBS = df.groupby('decile').apply(lambda x : x[cols].mean())"
   ]
  },
  {
   "cell_type": "code",
   "execution_count": 9,
   "id": "2e4a0e71",
   "metadata": {},
   "outputs": [],
   "source": [
    "VBS.T.round(2).to_csv('C:/Users/Nithin/Downloads/Segmentation_Heuristic/VBS.csv')"
   ]
  },
  {
   "cell_type": "markdown",
   "id": "7c704ed0",
   "metadata": {},
   "source": [
    "### RFM Segementation"
   ]
  },
  {
   "cell_type": "code",
   "execution_count": 10,
   "id": "91eab05b",
   "metadata": {},
   "outputs": [],
   "source": [
    "quantiles = df[['recency','monetary_value','frequency']].quantile(q = [0.25,0.5,0.75])"
   ]
  },
  {
   "cell_type": "code",
   "execution_count": 13,
   "id": "a8b940fc",
   "metadata": {},
   "outputs": [],
   "source": [
    "quantiles = quantiles.to_dict()"
   ]
  },
  {
   "cell_type": "code",
   "execution_count": 15,
   "id": "7035d9e2",
   "metadata": {},
   "outputs": [],
   "source": [
    "#UDF\n",
    "def R_class (x,p,d):\n",
    "    if x <= d[p][0.25]:\n",
    "        return 1\n",
    "    if x <= d[p][0.50]:\n",
    "        return 2\n",
    "    if x <= d[p][0.75]:\n",
    "        return 3\n",
    "    else:\n",
    "        return 4\n",
    "    \n",
    "def F_class (x,p,d):\n",
    "    if x <= d[p][0.25]:\n",
    "        return 4\n",
    "    if x <= d[p][0.50]:\n",
    "        return 3\n",
    "    if x <= d[p][0.75]:\n",
    "        return 2\n",
    "    else:\n",
    "        return 1 "
   ]
  },
  {
   "cell_type": "code",
   "execution_count": 22,
   "id": "a377c872",
   "metadata": {},
   "outputs": [],
   "source": [
    "df['R_quantile'] = df['recency'].apply(R_class,args=('recency',quantiles))\n",
    "df['F_quantile'] = df['frequency'].apply(F_class,args=('frequency',quantiles))\n",
    "df['M_quantile'] = df['monetary_value'].apply(F_class,args=('monetary_value',quantiles))"
   ]
  },
  {
   "cell_type": "code",
   "execution_count": 28,
   "id": "6846e900",
   "metadata": {},
   "outputs": [
    {
     "name": "stderr",
     "output_type": "stream",
     "text": [
      "C:\\Users\\Nithin\\AppData\\Local\\Temp/ipykernel_28572/4005109935.py:2: SettingWithCopyWarning: \n",
      "A value is trying to be set on a copy of a slice from a DataFrame\n",
      "\n",
      "See the caveats in the documentation: https://pandas.pydata.org/pandas-docs/stable/user_guide/indexing.html#returning-a-view-versus-a-copy\n",
      "  df1.R_seg[df['R_quantile']==4] = \"3.Churn\"\n",
      "C:\\Users\\Nithin\\AppData\\Local\\Temp/ipykernel_28572/4005109935.py:3: SettingWithCopyWarning: \n",
      "A value is trying to be set on a copy of a slice from a DataFrame\n",
      "\n",
      "See the caveats in the documentation: https://pandas.pydata.org/pandas-docs/stable/user_guide/indexing.html#returning-a-view-versus-a-copy\n",
      "  df1.R_seg[df['R_quantile']==2] = \"2.At Risk\"\n",
      "C:\\Users\\Nithin\\AppData\\Local\\Temp/ipykernel_28572/4005109935.py:4: SettingWithCopyWarning: \n",
      "A value is trying to be set on a copy of a slice from a DataFrame\n",
      "\n",
      "See the caveats in the documentation: https://pandas.pydata.org/pandas-docs/stable/user_guide/indexing.html#returning-a-view-versus-a-copy\n",
      "  df1.R_seg[df['R_quantile']==3] = \"2.At Risk\"\n",
      "C:\\Users\\Nithin\\AppData\\Local\\Temp/ipykernel_28572/4005109935.py:5: SettingWithCopyWarning: \n",
      "A value is trying to be set on a copy of a slice from a DataFrame\n",
      "\n",
      "See the caveats in the documentation: https://pandas.pydata.org/pandas-docs/stable/user_guide/indexing.html#returning-a-view-versus-a-copy\n",
      "  df1.R_seg[df['R_quantile']==1] = \"1.Active\"\n",
      "C:\\Users\\Nithin\\AppData\\Local\\Temp/ipykernel_28572/4005109935.py:7: SettingWithCopyWarning: \n",
      "A value is trying to be set on a copy of a slice from a DataFrame\n",
      "\n",
      "See the caveats in the documentation: https://pandas.pydata.org/pandas-docs/stable/user_guide/indexing.html#returning-a-view-versus-a-copy\n",
      "  df1.FM_seg[(df['F_quantile']==3) & (df['M_quantile']==1)] = \"2.Gold\"\n",
      "C:\\Users\\Nithin\\AppData\\Local\\Temp/ipykernel_28572/4005109935.py:8: SettingWithCopyWarning: \n",
      "A value is trying to be set on a copy of a slice from a DataFrame\n",
      "\n",
      "See the caveats in the documentation: https://pandas.pydata.org/pandas-docs/stable/user_guide/indexing.html#returning-a-view-versus-a-copy\n",
      "  df1.FM_seg[(df['F_quantile']==4) & (df['M_quantile']==1)] = \"2.Gold\"\n",
      "C:\\Users\\Nithin\\AppData\\Local\\Temp/ipykernel_28572/4005109935.py:9: SettingWithCopyWarning: \n",
      "A value is trying to be set on a copy of a slice from a DataFrame\n",
      "\n",
      "See the caveats in the documentation: https://pandas.pydata.org/pandas-docs/stable/user_guide/indexing.html#returning-a-view-versus-a-copy\n",
      "  df1.FM_seg[(df['F_quantile']==2) & (df['M_quantile']==2)] = \"2.Gold\"\n",
      "C:\\Users\\Nithin\\AppData\\Local\\Temp/ipykernel_28572/4005109935.py:10: SettingWithCopyWarning: \n",
      "A value is trying to be set on a copy of a slice from a DataFrame\n",
      "\n",
      "See the caveats in the documentation: https://pandas.pydata.org/pandas-docs/stable/user_guide/indexing.html#returning-a-view-versus-a-copy\n",
      "  df1.FM_seg[(df['F_quantile']==2) & (df['M_quantile']==1)] = \"2.Gold\"\n",
      "C:\\Users\\Nithin\\AppData\\Local\\Temp/ipykernel_28572/4005109935.py:11: SettingWithCopyWarning: \n",
      "A value is trying to be set on a copy of a slice from a DataFrame\n",
      "\n",
      "See the caveats in the documentation: https://pandas.pydata.org/pandas-docs/stable/user_guide/indexing.html#returning-a-view-versus-a-copy\n",
      "  df1.FM_seg[(df['F_quantile']==3) & (df['M_quantile']==2)] = \"2.Gold\"\n",
      "C:\\Users\\Nithin\\AppData\\Local\\Temp/ipykernel_28572/4005109935.py:12: SettingWithCopyWarning: \n",
      "A value is trying to be set on a copy of a slice from a DataFrame\n",
      "\n",
      "See the caveats in the documentation: https://pandas.pydata.org/pandas-docs/stable/user_guide/indexing.html#returning-a-view-versus-a-copy\n",
      "  df1.FM_seg[(df['F_quantile']==4) & (df['M_quantile']==2)] = \"1.Silverf\"\n",
      "C:\\Users\\Nithin\\AppData\\Local\\Temp/ipykernel_28572/4005109935.py:13: SettingWithCopyWarning: \n",
      "A value is trying to be set on a copy of a slice from a DataFrame\n",
      "\n",
      "See the caveats in the documentation: https://pandas.pydata.org/pandas-docs/stable/user_guide/indexing.html#returning-a-view-versus-a-copy\n",
      "  df1.FM_seg[(df['F_quantile']==1) & (df['M_quantile']==3)] = \"2.Gold\"\n",
      "C:\\Users\\Nithin\\AppData\\Local\\Temp/ipykernel_28572/4005109935.py:14: SettingWithCopyWarning: \n",
      "A value is trying to be set on a copy of a slice from a DataFrame\n",
      "\n",
      "See the caveats in the documentation: https://pandas.pydata.org/pandas-docs/stable/user_guide/indexing.html#returning-a-view-versus-a-copy\n",
      "  df1.FM_seg[(df['F_quantile']==2) & (df['M_quantile']==3)] = \"2.Gold\"\n",
      "C:\\Users\\Nithin\\AppData\\Local\\Temp/ipykernel_28572/4005109935.py:15: SettingWithCopyWarning: \n",
      "A value is trying to be set on a copy of a slice from a DataFrame\n",
      "\n",
      "See the caveats in the documentation: https://pandas.pydata.org/pandas-docs/stable/user_guide/indexing.html#returning-a-view-versus-a-copy\n",
      "  df1.FM_seg[(df['F_quantile']==3) & (df['M_quantile']==3)] = \"1.Silver\"\n",
      "C:\\Users\\Nithin\\AppData\\Local\\Temp/ipykernel_28572/4005109935.py:16: SettingWithCopyWarning: \n",
      "A value is trying to be set on a copy of a slice from a DataFrame\n",
      "\n",
      "See the caveats in the documentation: https://pandas.pydata.org/pandas-docs/stable/user_guide/indexing.html#returning-a-view-versus-a-copy\n",
      "  df1.FM_seg[(df['F_quantile']==4) & (df['M_quantile']==3)] = \"1.Silver\"\n",
      "C:\\Users\\Nithin\\AppData\\Local\\Temp/ipykernel_28572/4005109935.py:17: SettingWithCopyWarning: \n",
      "A value is trying to be set on a copy of a slice from a DataFrame\n",
      "\n",
      "See the caveats in the documentation: https://pandas.pydata.org/pandas-docs/stable/user_guide/indexing.html#returning-a-view-versus-a-copy\n",
      "  df1.FM_seg[(df['F_quantile']==1) & (df['M_quantile']==4)] = \"2.Gold\"\n",
      "C:\\Users\\Nithin\\AppData\\Local\\Temp/ipykernel_28572/4005109935.py:18: SettingWithCopyWarning: \n",
      "A value is trying to be set on a copy of a slice from a DataFrame\n",
      "\n",
      "See the caveats in the documentation: https://pandas.pydata.org/pandas-docs/stable/user_guide/indexing.html#returning-a-view-versus-a-copy\n",
      "  df1.FM_seg[(df['F_quantile']==1) & (df['M_quantile']==2)] = \"2.Gold\"\n",
      "C:\\Users\\Nithin\\AppData\\Local\\Temp/ipykernel_28572/4005109935.py:19: SettingWithCopyWarning: \n",
      "A value is trying to be set on a copy of a slice from a DataFrame\n",
      "\n",
      "See the caveats in the documentation: https://pandas.pydata.org/pandas-docs/stable/user_guide/indexing.html#returning-a-view-versus-a-copy\n",
      "  df1.FM_seg[(df['F_quantile']==2) & (df['M_quantile']==4)] = \"1.Silver\"\n",
      "C:\\Users\\Nithin\\AppData\\Local\\Temp/ipykernel_28572/4005109935.py:20: SettingWithCopyWarning: \n",
      "A value is trying to be set on a copy of a slice from a DataFrame\n",
      "\n",
      "See the caveats in the documentation: https://pandas.pydata.org/pandas-docs/stable/user_guide/indexing.html#returning-a-view-versus-a-copy\n",
      "  df1.FM_seg[(df['F_quantile']==3) & (df['M_quantile']==4)] = \"1.Silver\"\n",
      "C:\\Users\\Nithin\\AppData\\Local\\Temp/ipykernel_28572/4005109935.py:21: SettingWithCopyWarning: \n",
      "A value is trying to be set on a copy of a slice from a DataFrame\n",
      "\n",
      "See the caveats in the documentation: https://pandas.pydata.org/pandas-docs/stable/user_guide/indexing.html#returning-a-view-versus-a-copy\n",
      "  df1.FM_seg[(df['F_quantile']==4) & (df['M_quantile']==4)] = \"0.Standard\"\n"
     ]
    }
   ],
   "source": [
    "df1 = df.assign(R_seg=np.nan, FM_seg =np.nan)\n",
    "df1.R_seg[df['R_quantile']==4] = \"3.Churn\"\n",
    "df1.R_seg[df['R_quantile']==2] = \"2.At Risk\"\n",
    "df1.R_seg[df['R_quantile']==3] = \"2.At Risk\"\n",
    "df1.R_seg[df['R_quantile']==1] = \"1.Active\"\n",
    "\n",
    "df1.FM_seg[(df['F_quantile']==3) & (df['M_quantile']==1)] = \"2.Gold\"\n",
    "df1.FM_seg[(df['F_quantile']==4) & (df['M_quantile']==1)] = \"2.Gold\"\n",
    "df1.FM_seg[(df['F_quantile']==2) & (df['M_quantile']==2)] = \"2.Gold\"\n",
    "df1.FM_seg[(df['F_quantile']==2) & (df['M_quantile']==1)] = \"2.Gold\"\n",
    "df1.FM_seg[(df['F_quantile']==3) & (df['M_quantile']==2)] = \"2.Gold\"\n",
    "df1.FM_seg[(df['F_quantile']==4) & (df['M_quantile']==2)] = \"1.Silverf\"\n",
    "df1.FM_seg[(df['F_quantile']==1) & (df['M_quantile']==3)] = \"2.Gold\"\n",
    "df1.FM_seg[(df['F_quantile']==2) & (df['M_quantile']==3)] = \"2.Gold\"\n",
    "df1.FM_seg[(df['F_quantile']==3) & (df['M_quantile']==3)] = \"1.Silver\"\n",
    "df1.FM_seg[(df['F_quantile']==4) & (df['M_quantile']==3)] = \"1.Silver\"\n",
    "df1.FM_seg[(df['F_quantile']==1) & (df['M_quantile']==4)] = \"2.Gold\"\n",
    "df1.FM_seg[(df['F_quantile']==1) & (df['M_quantile']==2)] = \"2.Gold\"\n",
    "df1.FM_seg[(df['F_quantile']==2) & (df['M_quantile']==4)] = \"1.Silver\"\n",
    "df1.FM_seg[(df['F_quantile']==3) & (df['M_quantile']==4)] = \"1.Silver\"\n",
    "df1.FM_seg[(df['F_quantile']==4) & (df['M_quantile']==4)] = \"0.Standard\"\n",
    "\n",
    "df1.FM_seg.fillna(\"4.Premium\", inplace=True)"
   ]
  },
  {
   "cell_type": "code",
   "execution_count": 33,
   "id": "099d3959",
   "metadata": {},
   "outputs": [],
   "source": [
    "RFM = df1.groupby(['R_seg','FM_seg']).apply(lambda x : x[cols].mean()).T"
   ]
  },
  {
   "cell_type": "code",
   "execution_count": 35,
   "id": "8340d0af",
   "metadata": {},
   "outputs": [],
   "source": [
    "RFM.to_csv('C:/Users/Nithin/Downloads/Segmentation_Heuristic/RFM.csv')"
   ]
  }
 ],
 "metadata": {
  "kernelspec": {
   "display_name": "Python 3 (ipykernel)",
   "language": "python",
   "name": "python3"
  },
  "language_info": {
   "codemirror_mode": {
    "name": "ipython",
    "version": 3
   },
   "file_extension": ".py",
   "mimetype": "text/x-python",
   "name": "python",
   "nbconvert_exporter": "python",
   "pygments_lexer": "ipython3",
   "version": "3.9.7"
  }
 },
 "nbformat": 4,
 "nbformat_minor": 5
}
